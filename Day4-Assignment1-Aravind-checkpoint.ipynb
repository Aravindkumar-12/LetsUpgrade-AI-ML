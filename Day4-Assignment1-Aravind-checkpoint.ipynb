{
 "cells": [
  {
   "cell_type": "markdown",
   "metadata": {},
   "source": [
    "# Letsupgrade Day 4\n",
    "\n",
    "\n"
   ]
  },
  {
   "cell_type": "markdown",
   "metadata": {},
   "source": [
    "# 1.Research on whether addition, subtraction, multiplication, division, floor division and modulo operations be performed on complex numbers. Based on your study, implement a Python program to demonstrate these operations.\n",
    "\n"
   ]
  },
  {
   "cell_type": "code",
   "execution_count": 2,
   "metadata": {},
   "outputs": [
    {
     "name": "stdout",
     "output_type": "stream",
     "text": [
      "Enter the number19.5+5j\n",
      "Enter the number24.6+2j\n",
      "(14.1+7j)\n",
      "(4.9+3j)\n",
      "(33.699999999999996+42j)\n",
      "(2.134340222575517+0.15898251192368829j)\n"
     ]
    }
   ],
   "source": [
    "num1 = complex(input(\"Enter the number1\"))\n",
    "num2 = complex(input(\"Enter the number2\"))\n",
    "add = num1+num2\n",
    "sub = num1-num2\n",
    "mul = num1*num2\n",
    "div = num1/num2\n",
    "\n",
    "print(add)\n",
    "print(sub)\n",
    "print(mul)\n",
    "print(div)\n",
    "# modulus and floor division cannot be performed on complex numbers\n"
   ]
  },
  {
   "cell_type": "markdown",
   "metadata": {},
   "source": [
    "# 2. Research on range() functions and its parameters. Create a markdown cell and write in your own words (no copy-paste from google please) what you understand about it. Implement a small program of your choice on the same."
   ]
  },
  {
   "cell_type": "markdown",
   "metadata": {},
   "source": [
    "Range function returns an object that produces a sequence of numbers  from start to stop-1.start and stop can be integers. There is a step parameter which is optional.Step iterates by the given number within range"
   ]
  },
  {
   "cell_type": "code",
   "execution_count": 3,
   "metadata": {},
   "outputs": [
    {
     "name": "stdout",
     "output_type": "stream",
     "text": [
      "10\n",
      "15\n",
      "20\n",
      "25\n",
      "30\n",
      "35\n",
      "40\n",
      "45\n"
     ]
    }
   ],
   "source": [
    "for i in range(10,50,5):\n",
    "    print(i) "
   ]
  },
  {
   "cell_type": "markdown",
   "metadata": {},
   "source": [
    "# 3. Consider two numbers. Perform their subtraction and if the result of subtraction is greater than 25, print their multiplication result else print their division result.\n",
    "\n"
   ]
  },
  {
   "cell_type": "code",
   "execution_count": 9,
   "metadata": {},
   "outputs": [
    {
     "name": "stdout",
     "output_type": "stream",
     "text": [
      "enter a first number65\n",
      "enter a second number20\n",
      "1300\n"
     ]
    }
   ],
   "source": [
    "Num1 = int(input(\"enter a first number\"))\n",
    "Num2 = int(input(\"enter a second number\"))\n",
    "sub = Num1 - Num2 \n",
    "if(sub > 25):\n",
    "    print(Num1*Num2)\n",
    "else:\n",
    "    print(Num1/Num2)\n"
   ]
  },
  {
   "cell_type": "markdown",
   "metadata": {},
   "source": [
    "# 4.Consider a list of 10 elements of integer values. If the number in the list is divisible by 2, print the result as \"square of that number minus 2\".\n"
   ]
  },
  {
   "cell_type": "code",
   "execution_count": 10,
   "metadata": {},
   "outputs": [
    {
     "name": "stdout",
     "output_type": "stream",
     "text": [
      "enter the number of items in list10\n",
      "enter the number11\n",
      "enter the number25\n",
      "enter the number65\n",
      "enter the number20\n",
      "enter the number48\n",
      "enter the number90\n",
      "enter the number147\n",
      "enter the number36\n",
      "enter the number28\n",
      "enter the number12\n",
      "[11, 25, 65, 20, 48, 90, 147, 36, 28, 12]\n",
      "20 square of that number minus 2\n",
      "48 square of that number minus 2\n",
      "90 square of that number minus 2\n",
      "36 square of that number minus 2\n",
      "28 square of that number minus 2\n",
      "12 square of that number minus 2\n"
     ]
    }
   ],
   "source": [
    "list =  []\n",
    "len_list = int(input(\"enter the number of items in list\"))\n",
    "for i in range(0,len_list):\n",
    "    x = int(input(\"enter the number\"))\n",
    "    list.append(x)\n",
    "print(list)    \n",
    "for i in list:\n",
    "    if(i % 2 == 0):\n",
    "        print(i,'square of that number minus 2')\n",
    "        "
   ]
  },
  {
   "cell_type": "markdown",
   "metadata": {},
   "source": [
    "# 5.Consider a list of 10 elements. Print all the elements in the list which are greater than 7 when that number is divided 2..\n"
   ]
  },
  {
   "cell_type": "code",
   "execution_count": 12,
   "metadata": {},
   "outputs": [
    {
     "name": "stdout",
     "output_type": "stream",
     "text": [
      "12\n",
      "44\n",
      "56\n",
      "12\n"
     ]
    }
   ],
   "source": [
    "list =  [12,45,1,3,44,23,56,12,0,-1]\n",
    "for i in list:\n",
    "    if((i %2 == 0) and (i > 7)):\n",
    "        print(i)\n",
    "    "
   ]
  },
  {
   "cell_type": "code",
   "execution_count": null,
   "metadata": {},
   "outputs": [],
   "source": []
  }
 ],
 "metadata": {
  "kernelspec": {
   "display_name": "Python 3",
   "language": "python",
   "name": "python3"
  },
  "language_info": {
   "codemirror_mode": {
    "name": "ipython",
    "version": 3
   },
   "file_extension": ".py",
   "mimetype": "text/x-python",
   "name": "python",
   "nbconvert_exporter": "python",
   "pygments_lexer": "ipython3",
   "version": "3.7.6"
  }
 },
 "nbformat": 4,
 "nbformat_minor": 4
}
