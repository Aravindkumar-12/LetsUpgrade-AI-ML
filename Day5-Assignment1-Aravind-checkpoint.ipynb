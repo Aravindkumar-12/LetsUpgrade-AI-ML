{
 "cells": [
  {
   "cell_type": "markdown",
   "metadata": {},
   "source": [
    "# Letsupgrade Day 5\n",
    "\n",
    "\n"
   ]
  },
  {
   "cell_type": "markdown",
   "metadata": {},
   "source": [
    "# 1.Write a Python program to find the first 20 non-even prime natural numbers.\n",
    "\n"
   ]
  },
  {
   "cell_type": "code",
   "execution_count": 1,
   "metadata": {},
   "outputs": [
    {
     "name": "stdout",
     "output_type": "stream",
     "text": [
      "[3, 5, 7, 11, 13, 17, 19, 23, 29, 31, 37, 41, 43, 47, 53, 59, 61, 67, 71, 73]\n",
      "20\n"
     ]
    }
   ],
   "source": [
    "list1 = []\n",
    "for i in range(3,100):    \n",
    "    if(len(list1) < 20):\n",
    "        for j in range(2,i):\n",
    "            if(i% j == 0):\n",
    "                break\n",
    "        else:\n",
    "            list1.append(i)\n",
    "print(list1)\n",
    "print(len(list1))"
   ]
  },
  {
   "cell_type": "markdown",
   "metadata": {},
   "source": [
    "# 2. Write a Python program to implement 15 functions of string."
   ]
  },
  {
   "cell_type": "code",
   "execution_count": 3,
   "metadata": {},
   "outputs": [
    {
     "name": "stdout",
     "output_type": "stream",
     "text": [
      "Aravind\n",
      "ARAVIND\n",
      "aravind\n",
      "True\n",
      "False\n",
      "False\n",
      "True\n",
      "False\n",
      "Ais learning mi/al course from letsupgraderis learning mi/al course from letsupgradeais learning mi/al course from letsupgradevis learning mi/al course from letsupgradeiis learning mi/al course from letsupgradenis learning mi/al course from letsupgraded\n",
      "['is', 'learning', 'mi/al', 'course', 'from', 'letsupgrade']\n",
      "IS LEARNING MI/AL COURSE FROM LETSUPGRADE\n",
      "7\n",
      "Aravind\n",
      "('A', 'r', 'avind')\n",
      "Aravinq\n"
     ]
    }
   ],
   "source": [
    "import string\n",
    "str1 = 'Aravind'\n",
    "str2 = 'is learning mi/al course from letsupgrade'\n",
    "print(str1.capitalize())\n",
    "print(str1.upper())\n",
    "print(str1.casefold())\n",
    "print(str1.startswith('A'))\n",
    "print(str1.endswith('l'))\n",
    "print(str2.isalnum())\n",
    "print(str1.isalpha())\n",
    "print(str2.isdigit())\n",
    "print(str2.join(str1))\n",
    "print(str2.split())\n",
    "print(str2.swapcase())\n",
    "print(len(str1))\n",
    "print(str1.title())\n",
    "print(str1.rpartition('r'))\n",
    "print(str1.replace('d','q'))\n",
    "\n"
   ]
  },
  {
   "cell_type": "markdown",
   "metadata": {},
   "source": [
    "# 3. Write a Python program to check if the given string is a Palindrome or Anagram or None of them.\n",
    "\n",
    "\n"
   ]
  },
  {
   "cell_type": "code",
   "execution_count": 4,
   "metadata": {},
   "outputs": [
    {
     "name": "stdout",
     "output_type": "stream",
     "text": [
      "Given string is a Palindrome\n",
      "Given string is a anagram\n"
     ]
    }
   ],
   "source": [
    "str1 = 'madam'\n",
    "str2 = str1[::-1]\n",
    "str3 = 'god'\n",
    "str4 = 'dog'\n",
    "\n",
    "if(str2 == str1):\n",
    "    print(\"Given string is a Palindrome\")\n",
    "else:\n",
    "    print(\"Given String is not Palindrome\")\n",
    "if(sorted(list(str3)) == sorted(list(str4))):\n",
    "    print(\"Given string is a anagram\")\n",
    "else:\n",
    "    print(\"Given string is not a anagram\")\n"
   ]
  },
  {
   "cell_type": "markdown",
   "metadata": {},
   "source": [
    "# 4. Write a Python program to check if the given string is a Palindrome or Anagram or None of them"
   ]
  },
  {
   "cell_type": "code",
   "execution_count": 48,
   "metadata": {},
   "outputs": [
    {
     "name": "stdout",
     "output_type": "stream",
     "text": [
      "drdarshaningleaimltrainer\n"
     ]
    }
   ],
   "source": [
    "str1 = \"Dr. Darshan Ingle @AI-ML Trainer\"\n",
    "list1 = []\n",
    "for i in list(str1):\n",
    "    if(i.isalnum() == True):\n",
    "        list1.append(i)\n",
    "str2 = \"\".join(list1)  \n",
    "print(str2.lower())\n",
    "      \n"
   ]
  }
 ],
 "metadata": {
  "kernelspec": {
   "display_name": "Python 3",
   "language": "python",
   "name": "python3"
  },
  "language_info": {
   "codemirror_mode": {
    "name": "ipython",
    "version": 3
   },
   "file_extension": ".py",
   "mimetype": "text/x-python",
   "name": "python",
   "nbconvert_exporter": "python",
   "pygments_lexer": "ipython3",
   "version": "3.7.6"
  }
 },
 "nbformat": 4,
 "nbformat_minor": 4
}
